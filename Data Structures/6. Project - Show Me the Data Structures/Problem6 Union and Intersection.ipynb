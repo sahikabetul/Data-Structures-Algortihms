{
 "cells": [
  {
   "cell_type": "markdown",
   "metadata": {},
   "source": [
    "**The Goal:** Task for this problem is to fill out the union and intersection functions. The union of two sets A and B is the set of elements which are in A, in B, or in both A and B. The intersection of two sets A and B, denoted by A ∩ B, is the set of all objects that are members of both the sets A and B.\n",
    "\n",
    "I take in two linked lists and return a linked list that is composed of either the union or intersection, respectively.\n",
    "\n",
    "- **Design - Union:** I created linked list for returning and list for collecting added values to linked list. I iterated over linkedlist1 and linkedlist, respectively. If value of node not in the result linked list, I add it. By the way, time complexity and space complexity determined by only while loops.\n",
    "- **Design - Intersection:** I created linked list for returning and list for collecting added values to linked list. I iterated over linkedlist1 and create a set by its values. Then, I iterated over linkedlist2.  If value of node in the set,  I add it to  result list. And add the value to By the way, time complexity and space complexity determined by only while loops.\n",
    "\n",
    "- **Time Complexity:** Determined by while loops, O(n)\n",
    "- **Space Complexity:** Collected nodes to linked list, O(n)"
   ]
  },
  {
   "cell_type": "code",
   "execution_count": 6,
   "metadata": {},
   "outputs": [],
   "source": [
    "class Node:\n",
    "    def __init__(self, value):\n",
    "        self.value = value\n",
    "        self.next = None\n",
    "\n",
    "    def __repr__(self):\n",
    "        return str(self.value)\n",
    "\n",
    "\n",
    "class LinkedList:\n",
    "    def __init__(self):\n",
    "        self.head = None\n",
    "\n",
    "    def __str__(self):\n",
    "        cur_head = self.head\n",
    "        out_string = \"\"\n",
    "        while cur_head:\n",
    "            out_string += str(cur_head.value) + \" -> \"\n",
    "            cur_head = cur_head.next\n",
    "        return out_string\n",
    "\n",
    "\n",
    "    def append(self, value):\n",
    "\n",
    "        if self.head is None:\n",
    "            self.head = Node(value)\n",
    "            return\n",
    "\n",
    "        node = self.head\n",
    "        while node.next:\n",
    "            node = node.next\n",
    "\n",
    "        node.next = Node(value)\n",
    "\n",
    "    def size(self):\n",
    "        size = 0\n",
    "        node = self.head\n",
    "        while node:\n",
    "            size += 1\n",
    "            node = node.next\n",
    "\n",
    "        return size\n",
    "\n",
    "    def remove(self, value):\n",
    "        \"\"\" Delete the first node with the desired data. \"\"\"\n",
    "        if self.head is None:\n",
    "            return\n",
    "\n",
    "        if self.head.value == value:\n",
    "            self.head = self.head.next\n",
    "            return\n",
    "\n",
    "        node = self.head\n",
    "        while node.next:\n",
    "            if node.next.value == value:\n",
    "                node.next = node.next.next\n",
    "                return\n",
    "            node = node.next\n",
    "\n",
    "        raise ValueError(\"Value not found in the list.\")\n",
    "\n",
    "def union(llist_1, llist_2):\n",
    "    union_llist = LinkedList()\n",
    "    union_list = []\n",
    "    node = llist_1.head\n",
    "\n",
    "    while node:\n",
    "        if node.value not in union_list:\n",
    "            union_llist.append(node)\n",
    "            union_list.append(node.value)\n",
    "        node = node.next\n",
    "\n",
    "    node = llist_2.head\n",
    "\n",
    "    while node:\n",
    "        if node.value not in union_list:\n",
    "            union_llist.append(node)\n",
    "            union_list.append(node.value)\n",
    "        node = node.next\n",
    "\n",
    "    return union_llist    \n",
    "\n",
    "\n",
    "def intersection(llist_1, llist_2):\n",
    "    \n",
    "    intersection_llist = LinkedList()\n",
    "    intersection_list = []\n",
    "    unique_values_1_set = set()\n",
    "    node = llist_1.head\n",
    "\n",
    "    while node:\n",
    "        unique_values_1_set.add(node.value)\n",
    "        node = node.next\n",
    "\n",
    "    node = llist_2.head\n",
    "\n",
    "    while node:\n",
    "        if node.value in unique_values_1_set and node.value not in intersection_list:\n",
    "            intersection_llist.append(node)\n",
    "            intersection_list.append(node.value)\n",
    "        node = node.next\n",
    "\n",
    "    return intersection_llist"
   ]
  },
  {
   "cell_type": "markdown",
   "metadata": {},
   "source": [
    "#### Test Case 1"
   ]
  },
  {
   "cell_type": "code",
   "execution_count": 7,
   "metadata": {},
   "outputs": [
    {
     "name": "stdout",
     "output_type": "stream",
     "text": [
      "3 -> 2 -> 4 -> 35 -> 6 -> 65 -> 21 -> 32 -> 9 -> 1 -> 11 -> \n",
      "6 -> 4 -> 21 -> \n"
     ]
    }
   ],
   "source": [
    "linked_list_1 = LinkedList()\n",
    "linked_list_2 = LinkedList()\n",
    "\n",
    "element_1 = [3,2,4,35,6,65,6,4,3,21]\n",
    "element_2 = [6,32,4,9,6,1,11,21,1]\n",
    "\n",
    "for i in element_1:\n",
    "    linked_list_1.append(i)\n",
    "\n",
    "for i in element_2:\n",
    "    linked_list_2.append(i)\n",
    "\n",
    "print (union(linked_list_1,linked_list_2))\n",
    "print (intersection(linked_list_1,linked_list_2))"
   ]
  },
  {
   "cell_type": "markdown",
   "metadata": {},
   "source": [
    "#### Test Case 2"
   ]
  },
  {
   "cell_type": "code",
   "execution_count": 8,
   "metadata": {},
   "outputs": [
    {
     "name": "stdout",
     "output_type": "stream",
     "text": [
      "3 -> 2 -> 4 -> 35 -> 6 -> 65 -> 23 -> 1 -> 7 -> 8 -> 9 -> 11 -> 21 -> \n",
      "\n"
     ]
    }
   ],
   "source": [
    "linked_list_3 = LinkedList()\n",
    "linked_list_4 = LinkedList()\n",
    "\n",
    "element_1 = [3,2,4,35,6,65,6,4,3,23]\n",
    "element_2 = [1,7,8,9,11,21,1]\n",
    "\n",
    "for i in element_1:\n",
    "    linked_list_3.append(i)\n",
    "\n",
    "for i in element_2:\n",
    "    linked_list_4.append(i)\n",
    "\n",
    "print (union(linked_list_3,linked_list_4))\n",
    "print (intersection(linked_list_3,linked_list_4))"
   ]
  },
  {
   "cell_type": "markdown",
   "metadata": {},
   "source": [
    "#### Test Case 3"
   ]
  },
  {
   "cell_type": "code",
   "execution_count": 9,
   "metadata": {},
   "outputs": [
    {
     "name": "stdout",
     "output_type": "stream",
     "text": [
      "3 -> 2 -> 4 -> 35 -> 6 -> 65 -> 23 -> \n",
      "3 -> 2 -> 4 -> 35 -> 6 -> 65 -> 23 -> \n"
     ]
    }
   ],
   "source": [
    "linked_list_5 = LinkedList()\n",
    "linked_list_6 = LinkedList()\n",
    "\n",
    "element_1 = [3,2,4,35,6,65,6,4,3,23]\n",
    "element_2 = [3,2,4,35,6,65,6,4,3,23]\n",
    "\n",
    "for i in element_1:\n",
    "    linked_list_5.append(i)\n",
    "\n",
    "for i in element_2:\n",
    "    linked_list_6.append(i)\n",
    "\n",
    "print (union(linked_list_5,linked_list_6))\n",
    "print (intersection(linked_list_5,linked_list_6))"
   ]
  },
  {
   "cell_type": "markdown",
   "metadata": {},
   "source": [
    "#### Test Case 4"
   ]
  },
  {
   "cell_type": "code",
   "execution_count": 10,
   "metadata": {},
   "outputs": [
    {
     "name": "stdout",
     "output_type": "stream",
     "text": [
      "\n",
      "\n"
     ]
    }
   ],
   "source": [
    "linked_list_7 = LinkedList()\n",
    "linked_list_8 = LinkedList()\n",
    "\n",
    "element_1 = []\n",
    "element_2 = []\n",
    "\n",
    "for i in element_1:\n",
    "    linked_list_7.append(i)\n",
    "\n",
    "for i in element_2:\n",
    "    linked_list_8.append(i)\n",
    "\n",
    "print (union(linked_list_7,linked_list_8))\n",
    "print (intersection(linked_list_7,linked_list_8))"
   ]
  },
  {
   "cell_type": "markdown",
   "metadata": {},
   "source": [
    "#### Test Case 5"
   ]
  },
  {
   "cell_type": "code",
   "execution_count": 11,
   "metadata": {},
   "outputs": [
    {
     "name": "stdout",
     "output_type": "stream",
     "text": [
      "a -> b -> c -> \n",
      "c -> b -> a -> \n"
     ]
    }
   ],
   "source": [
    "linked_list_9 = LinkedList()\n",
    "linked_list_10 = LinkedList()\n",
    "\n",
    "element_1 = ['a', 'b', 'c']\n",
    "element_2 = ['c', 'b', 'a']\n",
    "\n",
    "for i in element_1:\n",
    "    linked_list_9.append(i)\n",
    "\n",
    "for i in element_2:\n",
    "    linked_list_10.append(i)\n",
    "\n",
    "print (union(linked_list_9,linked_list_10))\n",
    "print (intersection(linked_list_9,linked_list_10))"
   ]
  }
 ],
 "metadata": {
  "interpreter": {
   "hash": "79b0dd04bab9a03d46018d7d48049d4eb6cfb60c9c4f2a1fb5d498993db2f19d"
  },
  "kernelspec": {
   "display_name": "Python 3.8.3 ('base')",
   "language": "python",
   "name": "python3"
  },
  "language_info": {
   "codemirror_mode": {
    "name": "ipython",
    "version": 3
   },
   "file_extension": ".py",
   "mimetype": "text/x-python",
   "name": "python",
   "nbconvert_exporter": "python",
   "pygments_lexer": "ipython3",
   "version": "3.8.3"
  },
  "orig_nbformat": 4
 },
 "nbformat": 4,
 "nbformat_minor": 2
}
