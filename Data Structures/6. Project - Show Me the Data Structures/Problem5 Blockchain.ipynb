{
 "cells": [
  {
   "cell_type": "markdown",
   "metadata": {},
   "source": [
    "**The Goal:** A Blockchain is a sequential chain of records, similar to a linked list. Each block contains some information and how it is connected related to the other blocks in the chain. Each block contains a cryptographic hash of the previous block, a timestamp, and transaction data. For our blockchain we will be using a SHA-256 hash, the Greenwich Mean Time when the block was created, and text strings as the data.\n",
    "\n",
    "- **Code Design:** We created a Blockchain class. (Methods: append, get_transaction, get_hash, and repr.) We built blockchain by linked list of blocks by Block class.\n",
    "- **Time Complexity:** Most complex part is While loops. So, the time complexity is O(n)\n",
    "- **Space Complexity:** We stored blockchain as linked lists. So, the space complexity determined by length of list: O(n)"
   ]
  },
  {
   "cell_type": "code",
   "execution_count": 17,
   "metadata": {},
   "outputs": [],
   "source": [
    "import hashlib\n",
    "from datetime import datetime"
   ]
  },
  {
   "cell_type": "code",
   "execution_count": 18,
   "metadata": {},
   "outputs": [],
   "source": [
    "class Block:\n",
    "\n",
    "    def __init__(self, timestamp, data, previous_hash):\n",
    "        self.timestamp = timestamp\n",
    "        self.data = data\n",
    "        self.previous_hash = previous_hash\n",
    "        self.hash = self.calc_hash()\n",
    "        self.next = None\n",
    "\n",
    "    def calc_hash(self):\n",
    "        sha = hashlib.sha256()\n",
    "        hash_str = (self.data + str(self.timestamp)).encode('utf-8')\n",
    "        sha.update(hash_str)\n",
    "\n",
    "        return sha.hexdigest()"
   ]
  },
  {
   "cell_type": "code",
   "execution_count": 19,
   "metadata": {},
   "outputs": [],
   "source": [
    "class Blockchain:\n",
    "    def __init__(self):\n",
    "        self.head = None\n",
    "\n",
    "    def add(self, transaction):\n",
    "        if self.head is None:\n",
    "            self.head = Block(datetime.now(), transaction, 0)\n",
    "            \n",
    "        else:\n",
    "            current_block = self.head\n",
    "            while current_block.next:\n",
    "                current_block = current_block.next\n",
    "            previous_hash = current_block.hash\n",
    "            new_block = Block(datetime.now(), transaction, previous_hash)\n",
    "            current_block.next = new_block\n",
    "\n",
    "    def get_by_data(self, data):\n",
    "        assert data != None, 'Please enter a transaction !'\n",
    "        assert self.head != None, 'There is no block in blockchain !'\n",
    "        assert type(data) == str, 'Transaction data type must be string !'\n",
    "        \n",
    "        current_block = self.head\n",
    "        while current_block:\n",
    "            if current_block.data == data:\n",
    "                return (current_block.data, current_block.timestamp, current_block.hash, current_block.previous_hash)\n",
    "            current_block = current_block.next\n",
    "\n",
    "        print('Transaction not found.')\n",
    "\n",
    "    def get_by_hash(self, hash):\n",
    "        assert hash != None, 'Please enter a key !'\n",
    "        assert self.head != None, 'There is no block in blockchain !'\n",
    "        assert type(hash) == str, 'Key data type must be string !'\n",
    "\n",
    "        current_block = self.head\n",
    "        while current_block:\n",
    "            if current_block.hash == hash:\n",
    "                return (current_block.data, current_block.timestamp, current_block.hash, current_block.previous_hash)\n",
    "            current_block = current_block.next\n",
    "\n",
    "        print('Hash not found.')"
   ]
  },
  {
   "cell_type": "markdown",
   "metadata": {},
   "source": [
    "#### Test Case 1"
   ]
  },
  {
   "cell_type": "code",
   "execution_count": 20,
   "metadata": {},
   "outputs": [],
   "source": [
    "my_blockchain = Blockchain()\n",
    "data_list = ['My', 'blockchain', 'items']\n",
    "\n",
    "for data in data_list:\n",
    "    my_blockchain.add(data)"
   ]
  },
  {
   "cell_type": "code",
   "execution_count": 21,
   "metadata": {},
   "outputs": [
    {
     "data": {
      "text/plain": [
       "('blockchain',\n",
       " datetime.datetime(2022, 3, 11, 23, 33, 48, 714186),\n",
       " '2e105c9c386526870ae666167b7ea1c0a478ef5ad2d2c627b5d6ff9b60c82143',\n",
       " 'f743fdb6d290b370f9457f0bbc382e51fc1b05d9fd3df8a3b4c0816ac9a4ef85')"
      ]
     },
     "execution_count": 21,
     "metadata": {},
     "output_type": "execute_result"
    }
   ],
   "source": [
    "my_blockchain.get_by_data('blockchain')"
   ]
  },
  {
   "cell_type": "markdown",
   "metadata": {},
   "source": [
    "#### Test Case 2"
   ]
  },
  {
   "cell_type": "code",
   "execution_count": 22,
   "metadata": {},
   "outputs": [
    {
     "name": "stdout",
     "output_type": "stream",
     "text": [
      "Hash not found.\n"
     ]
    }
   ],
   "source": [
    "my_blockchain.get_by_hash('e70e5a5c92ac8d2733b11882c9b26a41984fb7e6ebbab3d83075174ceedd2b18')"
   ]
  },
  {
   "cell_type": "markdown",
   "metadata": {},
   "source": [
    "#### Test Case 3"
   ]
  },
  {
   "cell_type": "code",
   "execution_count": 23,
   "metadata": {},
   "outputs": [
    {
     "ename": "AssertionError",
     "evalue": "Key data type must be string !",
     "output_type": "error",
     "traceback": [
      "\u001b[1;31m---------------------------------------------------------------------------\u001b[0m",
      "\u001b[1;31mAssertionError\u001b[0m                            Traceback (most recent call last)",
      "\u001b[1;32m<ipython-input-23-80adf3e6858f>\u001b[0m in \u001b[0;36m<module>\u001b[1;34m\u001b[0m\n\u001b[1;32m----> 1\u001b[1;33m \u001b[0mmy_blockchain\u001b[0m\u001b[1;33m.\u001b[0m\u001b[0mget_by_hash\u001b[0m\u001b[1;33m(\u001b[0m\u001b[1;36m1231933\u001b[0m\u001b[1;33m)\u001b[0m\u001b[1;33m\u001b[0m\u001b[1;33m\u001b[0m\u001b[0m\n\u001b[0m",
      "\u001b[1;32m<ipython-input-19-7e8f1fbaa2f5>\u001b[0m in \u001b[0;36mget_by_hash\u001b[1;34m(self, hash)\u001b[0m\n\u001b[0;32m     31\u001b[0m         \u001b[1;32massert\u001b[0m \u001b[0mhash\u001b[0m \u001b[1;33m!=\u001b[0m \u001b[1;32mNone\u001b[0m\u001b[1;33m,\u001b[0m \u001b[1;34m'Please enter a key !'\u001b[0m\u001b[1;33m\u001b[0m\u001b[1;33m\u001b[0m\u001b[0m\n\u001b[0;32m     32\u001b[0m         \u001b[1;32massert\u001b[0m \u001b[0mself\u001b[0m\u001b[1;33m.\u001b[0m\u001b[0mhead\u001b[0m \u001b[1;33m!=\u001b[0m \u001b[1;32mNone\u001b[0m\u001b[1;33m,\u001b[0m \u001b[1;34m'There is no block in blockchain !'\u001b[0m\u001b[1;33m\u001b[0m\u001b[1;33m\u001b[0m\u001b[0m\n\u001b[1;32m---> 33\u001b[1;33m         \u001b[1;32massert\u001b[0m \u001b[0mtype\u001b[0m\u001b[1;33m(\u001b[0m\u001b[0mhash\u001b[0m\u001b[1;33m)\u001b[0m \u001b[1;33m==\u001b[0m \u001b[0mstr\u001b[0m\u001b[1;33m,\u001b[0m \u001b[1;34m'Key data type must be string !'\u001b[0m\u001b[1;33m\u001b[0m\u001b[1;33m\u001b[0m\u001b[0m\n\u001b[0m\u001b[0;32m     34\u001b[0m \u001b[1;33m\u001b[0m\u001b[0m\n\u001b[0;32m     35\u001b[0m         \u001b[0mcurrent_block\u001b[0m \u001b[1;33m=\u001b[0m \u001b[0mself\u001b[0m\u001b[1;33m.\u001b[0m\u001b[0mhead\u001b[0m\u001b[1;33m\u001b[0m\u001b[1;33m\u001b[0m\u001b[0m\n",
      "\u001b[1;31mAssertionError\u001b[0m: Key data type must be string !"
     ]
    }
   ],
   "source": [
    "my_blockchain.get_by_hash(1231933)"
   ]
  },
  {
   "cell_type": "markdown",
   "metadata": {},
   "source": [
    "#### Test Case 4"
   ]
  },
  {
   "cell_type": "code",
   "execution_count": null,
   "metadata": {},
   "outputs": [
    {
     "ename": "TypeError",
     "evalue": "get_by_hash() missing 1 required positional argument: 'hash'",
     "output_type": "error",
     "traceback": [
      "\u001b[1;31m---------------------------------------------------------------------------\u001b[0m",
      "\u001b[1;31mTypeError\u001b[0m                                 Traceback (most recent call last)",
      "\u001b[1;32m<ipython-input-16-7b3e176af6c8>\u001b[0m in \u001b[0;36m<module>\u001b[1;34m\u001b[0m\n\u001b[1;32m----> 1\u001b[1;33m \u001b[0mmy_blockchain\u001b[0m\u001b[1;33m.\u001b[0m\u001b[0mget_by_hash\u001b[0m\u001b[1;33m(\u001b[0m\u001b[1;33m)\u001b[0m\u001b[1;33m\u001b[0m\u001b[1;33m\u001b[0m\u001b[0m\n\u001b[0m",
      "\u001b[1;31mTypeError\u001b[0m: get_by_hash() missing 1 required positional argument: 'hash'"
     ]
    }
   ],
   "source": [
    "my_blockchain.get_by_hash()"
   ]
  }
 ],
 "metadata": {
  "interpreter": {
   "hash": "79b0dd04bab9a03d46018d7d48049d4eb6cfb60c9c4f2a1fb5d498993db2f19d"
  },
  "kernelspec": {
   "display_name": "Python 3.8.3 ('base')",
   "language": "python",
   "name": "python3"
  },
  "language_info": {
   "codemirror_mode": {
    "name": "ipython",
    "version": 3
   },
   "file_extension": ".py",
   "mimetype": "text/x-python",
   "name": "python",
   "nbconvert_exporter": "python",
   "pygments_lexer": "ipython3",
   "version": "3.8.3"
  },
  "orig_nbformat": 4
 },
 "nbformat": 4,
 "nbformat_minor": 2
}
