{
 "cells": [
  {
   "cell_type": "code",
   "execution_count": 4,
   "metadata": {},
   "outputs": [],
   "source": [
    "import hashlib\n",
    "from datetime import datetime"
   ]
  },
  {
   "cell_type": "code",
   "execution_count": 2,
   "metadata": {},
   "outputs": [],
   "source": []
  },
  {
   "cell_type": "code",
   "execution_count": 3,
   "metadata": {},
   "outputs": [],
   "source": [
    "class Block:\n",
    "\n",
    "    def __init__(self, timestamp, data, previous_hash):\n",
    "        self.timestamp = timestamp\n",
    "        self.data = data\n",
    "        self.previous_hash = previous_hash\n",
    "        self.hash = self.calc_hash()\n",
    "        self.next = None\n",
    "\n",
    "    def calc_hash(self):\n",
    "        sha = hashlib.sha256()\n",
    "        hash_str = (self.data + self.timestamp).encode('utf-8')\n",
    "        sha.update(hash_str)\n",
    "\n",
    "        return sha.hexdigest()"
   ]
  },
  {
   "cell_type": "code",
   "execution_count": null,
   "metadata": {},
   "outputs": [],
   "source": [
    "class Blockchain:\n",
    "    def __init__(self):\n",
    "        self.head = None\n",
    "\n",
    "    def append(self, transaction):\n",
    "        if self.head:\n",
    "            current = self.head\n",
    "            while current.next:\n",
    "                current = current.next\n",
    "            previous_hash = current.hash\n",
    "            new_blockchain = Block(datetime.now(), transaction, previous_hash)\n",
    "            current.next = new_blockchain\n",
    "\n",
    "        else:\n",
    "            self.head = Block(datetime.now(), transaction, 0)\n",
    "\n",
    "    def get_transction(self, transaction):\n",
    "        if transaction == None or self.head == None or type(transaction) != str:\n",
    "            return None\n",
    "        \n",
    "        item = self.head\n",
    "        while item:\n",
    "            if item.data == transaction:\n",
    "                return (transaction, item.timestamp, item.hash)\n",
    "            item = item.next\n",
    "\n",
    "        return -1\n",
    "\n",
    "    def get_hash(self, key):\n",
    "        if key == None or self.head == None or type(key) != str:\n",
    "            return None\n",
    "\n",
    "        item = self.head\n",
    "        while item:\n",
    "            if item.hash == key:\n",
    "                return (item.data, item.timestamp, item.hash)\n",
    "            item = item.next\n",
    "        return -1"
   ]
  }
 ],
 "metadata": {
  "interpreter": {
   "hash": "79b0dd04bab9a03d46018d7d48049d4eb6cfb60c9c4f2a1fb5d498993db2f19d"
  },
  "kernelspec": {
   "display_name": "Python 3.8.3 ('base')",
   "language": "python",
   "name": "python3"
  },
  "language_info": {
   "codemirror_mode": {
    "name": "ipython",
    "version": 3
   },
   "file_extension": ".py",
   "mimetype": "text/x-python",
   "name": "python",
   "nbconvert_exporter": "python",
   "pygments_lexer": "ipython3",
   "version": "3.8.3"
  },
  "orig_nbformat": 4
 },
 "nbformat": 4,
 "nbformat_minor": 2
}
