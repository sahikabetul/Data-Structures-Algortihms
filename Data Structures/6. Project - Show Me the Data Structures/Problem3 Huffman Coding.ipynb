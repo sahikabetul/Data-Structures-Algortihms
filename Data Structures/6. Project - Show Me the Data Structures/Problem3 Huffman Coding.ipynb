{
 "cells": [
  {
   "cell_type": "markdown",
   "metadata": {},
   "source": [
    "**The Goal:** In general, a data compression algorithm reduces the amount of memory (bits) required to represent a message (data). The compressed data, in turn, helps to reduce the transmission time from a sender to receiver. The sender encodes the data, and the receiver decodes the encoded data. As part of this problem, you have to implement the logic for both encoding and decoding.\n",
    "\n",
    "A data compression algorithm could be either lossy or lossless, meaning that when compressing the data, there is a loss (lossy) or no loss (lossless) of information. The Huffman Coding is a lossless data compression algorithm.\n",
    "\n",
    "We used binary tree approach, as suggested, to solve this problem.\n",
    "\n",
    "- Time Complexity O(n*log(n)). Pull operations from priority list is O(1)\n",
    "        insert operation is O(n^2) in the worst case driven by the while loop O(n) x the insert method with worst case O(n)\n",
    "        overall the construction step has a worst case complexity O(n^2)\n",
    "- Space Complexity O(n). We keep n nodes."
   ]
  },
  {
   "cell_type": "code",
   "execution_count": 4,
   "metadata": {},
   "outputs": [],
   "source": [
    "import sys\n",
    "from collections import Counter"
   ]
  },
  {
   "cell_type": "code",
   "execution_count": 35,
   "metadata": {},
   "outputs": [],
   "source": [
    "class Node:\n",
    "    def __init__(self, freq, char = None):\n",
    "        self.freq = freq\n",
    "        self.char = char\n",
    "        self.left = None\n",
    "        self.right = None"
   ]
  },
  {
   "cell_type": "code",
   "execution_count": 36,
   "metadata": {},
   "outputs": [],
   "source": [
    "class Tree:\n",
    "    def __init__(self):\n",
    "        self.items = []\n",
    "    \n",
    "    def enqueue(self, node):\n",
    "        self.items.append(node)\n",
    "        return\n",
    "\n",
    "    def dequeue(self):\n",
    "        return self.items.pop(0)\n",
    "\n",
    "    def insert(self, node):\n",
    "        #inserts new node to queue by frequency order\n",
    "        \n",
    "        list_size = len(self.items)\n",
    "        if  list_size == 0:\n",
    "            self.items.append(node)\n",
    "            return\n",
    "        if node.freq >= self.items[list_size-1].freq:\n",
    "            # if freq of node greater than last item, add node to end\n",
    "            self.items.append(node)\n",
    "            return\n",
    "        for i in range(list_size):\n",
    "            # if freq of node not greater than last item, search ordered place for node by node value\n",
    "            if node.freq >= self.items[i].freq:\n",
    "                continue\n",
    "            else:\n",
    "                self.items.insert(i, node)\n",
    "                break\n",
    "\n",
    "    def is_empty(self):\n",
    "        return len(self.items) == 0    "
   ]
  },
  {
   "cell_type": "code",
   "execution_count": 43,
   "metadata": {},
   "outputs": [
    {
     "name": "stdout",
     "output_type": "stream",
     "text": [
      "The size of the data is: 69\n",
      "\n",
      "The content of the data is: The bird is the word\n",
      "\n",
      "The size of the encoded data is: 36\n",
      "\n",
      "The content of the encoded data is: 001100111001111011000111000000010010011000000100001100100101110011110110010100101100010010\n",
      "\n",
      "The size of the decoded data is: 69\n",
      "\n",
      "The content of the encoded data is: The bird is the word\n",
      "\n"
     ]
    }
   ],
   "source": [
    "def huffman_encoding(data):\n",
    "    # check inappropriate inputs\n",
    "    assert type(data) == str, 'Please enter a string !'\n",
    "    assert len(data) >= 1, 'Do not enter empty string !'\n",
    "\n",
    "    # count letter frequencies in data\n",
    "    letter_counter = Counter()\n",
    "\n",
    "    for letter in data:\n",
    "        letter_counter.update(letter)\n",
    "    \n",
    "    # convert letter frequencies counter to list and sort list by ascending frequency of letters \n",
    "    sorted_letter_list = [(char,freq) for char,freq in letter_counter.items()]\n",
    "    sorted_letter_list.sort(key= lambda x: x[1])\n",
    "\n",
    "    # create tree object and convert freq list to tree\n",
    "    # time complexity: O(n)\n",
    "    tree = Tree()\n",
    "    for char,freq in sorted_letter_list:\n",
    "        new_node = Node(freq,char)\n",
    "        tree.enqueue(new_node)\n",
    "\n",
    "    # concatenate least used letter nodes. This creates binary tree structure\n",
    "    # time complexity: O(n^2): While loop O(n) and insert O(n)(in the worst case)\n",
    "    while len(tree.items) >= 2:\n",
    "        least_freq_item = tree.dequeue()\n",
    "        sec_least_freq_item = tree.dequeue()\n",
    "\n",
    "        new_node = Node(least_freq_item.freq + sec_least_freq_item.freq)\n",
    "        new_node.left = least_freq_item\n",
    "        new_node.right = sec_least_freq_item\n",
    "\n",
    "        tree.insert(new_node)\n",
    "\n",
    "    else:\n",
    "        # if tree has only 1 node\n",
    "        # time complexity: O(n)\n",
    "        head = tree.dequeue()\n",
    "\n",
    "        new_node = Node(head.freq)\n",
    "        new_node.left = head\n",
    "        tree.insert(new_node)\n",
    "    \n",
    "    def traverse_tree(node, code, char2code):\n",
    "        '''\n",
    "        Traverses tree until determine code for each letter.\n",
    "\n",
    "        Args:\n",
    "        code: str: encoding container\n",
    "        char2code: dict: for mapping characters to  codes\n",
    "\n",
    "        Returns:\n",
    "        code: str: encoded sequence\n",
    "        char2code: dict: for mapping characters to  codes\n",
    "        '''\n",
    "        if node:\n",
    "            if node.left:\n",
    "                code += '0'\n",
    "                code, char2code = traverse_tree(node.left, code, char2code)\n",
    "            if node.right:\n",
    "                code += '1'\n",
    "                code, char2code = traverse_tree(node.right, code, char2code)\n",
    "            if node.char:\n",
    "                char2code[node.char] = code\n",
    "\n",
    "            code = code[:-1]\n",
    "\n",
    "        return code, char2code\n",
    "\n",
    "    # convert input to encoding\n",
    "    # time complexity: O(n) we use constant timed dictionary for n nodes.\n",
    "    node = tree.items[0]\n",
    "    code = ''\n",
    "    char2code = {}\n",
    "    char2code = traverse_tree(node, code, char2code)[1]\n",
    "\n",
    "    for letter in data:\n",
    "        code += char2code[letter]\n",
    "    \n",
    "    return code, tree\n",
    "\n",
    "\n",
    "def huffman_decoding(data, tree):\n",
    "    node = tree.items[0]\n",
    "\n",
    "    decode = ''\n",
    "\n",
    "    # time complexity: O(n), iterating on list\n",
    "    for digit in data:\n",
    "        if digit == '0':\n",
    "            if node.left:\n",
    "                node = node.left\n",
    "                            \n",
    "        elif digit == '1':\n",
    "            if node.right:\n",
    "                node = node.right        \n",
    "            \n",
    "        if node.char:   \n",
    "            decode += node.char\n",
    "            node = tree.items[0]\n",
    "\n",
    "    return decode   \n",
    "\n",
    "if __name__ == \"__main__\":\n",
    "    codes = {}\n",
    "\n",
    "    a_great_sentence = \"The bird is the word\"\n",
    "\n",
    "    print (\"The size of the data is: {}\\n\".format(sys.getsizeof(a_great_sentence)))\n",
    "    print (\"The content of the data is: {}\\n\".format(a_great_sentence))\n",
    "\n",
    "    encoded_data, tree = huffman_encoding(a_great_sentence)\n",
    "\n",
    "    print (\"The size of the encoded data is: {}\\n\".format(sys.getsizeof(int(encoded_data, base=2))))\n",
    "    print (\"The content of the encoded data is: {}\\n\".format(encoded_data))\n",
    "\n",
    "    decoded_data = huffman_decoding(encoded_data, tree)\n",
    "\n",
    "    print (\"The size of the decoded data is: {}\\n\".format(sys.getsizeof(decoded_data)))\n",
    "    print (\"The content of the encoded data is: {}\\n\".format(decoded_data))"
   ]
  },
  {
   "cell_type": "markdown",
   "metadata": {},
   "source": [
    "#### Test Case 2"
   ]
  },
  {
   "cell_type": "code",
   "execution_count": 38,
   "metadata": {},
   "outputs": [
    {
     "name": "stdout",
     "output_type": "stream",
     "text": [
      "The size of the data is: 28\n",
      "\n",
      "The content of the data is: 112\n",
      "\n"
     ]
    },
    {
     "ename": "AssertionError",
     "evalue": "Please enter a string !",
     "output_type": "error",
     "traceback": [
      "\u001b[1;31m---------------------------------------------------------------------------\u001b[0m",
      "\u001b[1;31mAssertionError\u001b[0m                            Traceback (most recent call last)",
      "\u001b[1;32m<ipython-input-38-4605480e1e39>\u001b[0m in \u001b[0;36m<module>\u001b[1;34m\u001b[0m\n\u001b[0;32m      2\u001b[0m \u001b[0mprint\u001b[0m \u001b[1;33m(\u001b[0m\u001b[1;34m\"The size of the data is: {}\\n\"\u001b[0m\u001b[1;33m.\u001b[0m\u001b[0mformat\u001b[0m\u001b[1;33m(\u001b[0m\u001b[0msys\u001b[0m\u001b[1;33m.\u001b[0m\u001b[0mgetsizeof\u001b[0m\u001b[1;33m(\u001b[0m\u001b[0ma_great_sentence\u001b[0m\u001b[1;33m)\u001b[0m\u001b[1;33m)\u001b[0m\u001b[1;33m)\u001b[0m\u001b[1;33m\u001b[0m\u001b[1;33m\u001b[0m\u001b[0m\n\u001b[0;32m      3\u001b[0m \u001b[0mprint\u001b[0m \u001b[1;33m(\u001b[0m\u001b[1;34m\"The content of the data is: {}\\n\"\u001b[0m\u001b[1;33m.\u001b[0m\u001b[0mformat\u001b[0m\u001b[1;33m(\u001b[0m\u001b[0ma_great_sentence\u001b[0m\u001b[1;33m)\u001b[0m\u001b[1;33m)\u001b[0m\u001b[1;33m\u001b[0m\u001b[1;33m\u001b[0m\u001b[0m\n\u001b[1;32m----> 4\u001b[1;33m \u001b[0mencoded_data\u001b[0m\u001b[1;33m,\u001b[0m \u001b[0mtree\u001b[0m \u001b[1;33m=\u001b[0m \u001b[0mhuffman_encoding\u001b[0m\u001b[1;33m(\u001b[0m\u001b[0ma_great_sentence\u001b[0m\u001b[1;33m)\u001b[0m\u001b[1;33m\u001b[0m\u001b[1;33m\u001b[0m\u001b[0m\n\u001b[0m\u001b[0;32m      5\u001b[0m \u001b[0mprint\u001b[0m \u001b[1;33m(\u001b[0m\u001b[1;34m\"The size of the encoded data is: {}\\n\"\u001b[0m\u001b[1;33m.\u001b[0m\u001b[0mformat\u001b[0m\u001b[1;33m(\u001b[0m\u001b[0msys\u001b[0m\u001b[1;33m.\u001b[0m\u001b[0mgetsizeof\u001b[0m\u001b[1;33m(\u001b[0m\u001b[0mint\u001b[0m\u001b[1;33m(\u001b[0m\u001b[0mencoded_data\u001b[0m\u001b[1;33m,\u001b[0m \u001b[0mbase\u001b[0m\u001b[1;33m=\u001b[0m\u001b[1;36m2\u001b[0m\u001b[1;33m)\u001b[0m\u001b[1;33m)\u001b[0m\u001b[1;33m)\u001b[0m\u001b[1;33m)\u001b[0m\u001b[1;33m\u001b[0m\u001b[1;33m\u001b[0m\u001b[0m\n\u001b[0;32m      6\u001b[0m \u001b[0mprint\u001b[0m \u001b[1;33m(\u001b[0m\u001b[1;34m\"The content of the encoded data is: {}\\n\"\u001b[0m\u001b[1;33m.\u001b[0m\u001b[0mformat\u001b[0m\u001b[1;33m(\u001b[0m\u001b[0mencoded_data\u001b[0m\u001b[1;33m)\u001b[0m\u001b[1;33m)\u001b[0m\u001b[1;33m\u001b[0m\u001b[1;33m\u001b[0m\u001b[0m\n",
      "\u001b[1;32m<ipython-input-37-824f76c986eb>\u001b[0m in \u001b[0;36mhuffman_encoding\u001b[1;34m(data)\u001b[0m\n\u001b[0;32m      1\u001b[0m \u001b[1;32mdef\u001b[0m \u001b[0mhuffman_encoding\u001b[0m\u001b[1;33m(\u001b[0m\u001b[0mdata\u001b[0m\u001b[1;33m)\u001b[0m\u001b[1;33m:\u001b[0m\u001b[1;33m\u001b[0m\u001b[1;33m\u001b[0m\u001b[0m\n\u001b[0;32m      2\u001b[0m     \u001b[1;31m# check inappropriate inputs\u001b[0m\u001b[1;33m\u001b[0m\u001b[1;33m\u001b[0m\u001b[1;33m\u001b[0m\u001b[0m\n\u001b[1;32m----> 3\u001b[1;33m     \u001b[1;32massert\u001b[0m \u001b[0mtype\u001b[0m\u001b[1;33m(\u001b[0m\u001b[0mdata\u001b[0m\u001b[1;33m)\u001b[0m \u001b[1;33m==\u001b[0m \u001b[0mstr\u001b[0m\u001b[1;33m,\u001b[0m \u001b[1;34m'Please enter a string !'\u001b[0m\u001b[1;33m\u001b[0m\u001b[1;33m\u001b[0m\u001b[0m\n\u001b[0m\u001b[0;32m      4\u001b[0m     \u001b[1;32massert\u001b[0m \u001b[0mlen\u001b[0m\u001b[1;33m(\u001b[0m\u001b[0mdata\u001b[0m\u001b[1;33m)\u001b[0m \u001b[1;33m>=\u001b[0m \u001b[1;36m1\u001b[0m\u001b[1;33m,\u001b[0m \u001b[1;34m'Do not enter empty string !'\u001b[0m\u001b[1;33m\u001b[0m\u001b[1;33m\u001b[0m\u001b[0m\n\u001b[0;32m      5\u001b[0m \u001b[1;33m\u001b[0m\u001b[0m\n",
      "\u001b[1;31mAssertionError\u001b[0m: Please enter a string !"
     ]
    }
   ],
   "source": [
    "a_great_sentence = 112\n",
    "print (\"The size of the data is: {}\\n\".format(sys.getsizeof(a_great_sentence)))\n",
    "print (\"The content of the data is: {}\\n\".format(a_great_sentence))\n",
    "encoded_data, tree = huffman_encoding(a_great_sentence)\n",
    "print (\"The size of the encoded data is: {}\\n\".format(sys.getsizeof(int(encoded_data, base=2))))\n",
    "print (\"The content of the encoded data is: {}\\n\".format(encoded_data))\n",
    "decoded_data = huffman_decoding(encoded_data, tree)\n",
    "print (\"The size of the decoded data is: {}\\n\".format(sys.getsizeof(decoded_data)))\n",
    "print (\"The content of the encoded data is: {}\\n\".format(decoded_data))"
   ]
  },
  {
   "cell_type": "markdown",
   "metadata": {},
   "source": [
    "#### Test Case 3"
   ]
  },
  {
   "cell_type": "code",
   "execution_count": 39,
   "metadata": {},
   "outputs": [
    {
     "name": "stdout",
     "output_type": "stream",
     "text": [
      "The size of the data is: 51\n",
      "\n",
      "The content of the data is: \n",
      "\n"
     ]
    },
    {
     "ename": "AssertionError",
     "evalue": "Do not enter empty string !",
     "output_type": "error",
     "traceback": [
      "\u001b[1;31m---------------------------------------------------------------------------\u001b[0m",
      "\u001b[1;31mAssertionError\u001b[0m                            Traceback (most recent call last)",
      "\u001b[1;32m<ipython-input-39-ae7b59ef313e>\u001b[0m in \u001b[0;36m<module>\u001b[1;34m\u001b[0m\n\u001b[0;32m      2\u001b[0m \u001b[0mprint\u001b[0m \u001b[1;33m(\u001b[0m\u001b[1;34m\"The size of the data is: {}\\n\"\u001b[0m\u001b[1;33m.\u001b[0m\u001b[0mformat\u001b[0m\u001b[1;33m(\u001b[0m\u001b[0msys\u001b[0m\u001b[1;33m.\u001b[0m\u001b[0mgetsizeof\u001b[0m\u001b[1;33m(\u001b[0m\u001b[0ma_great_sentence\u001b[0m\u001b[1;33m)\u001b[0m\u001b[1;33m)\u001b[0m\u001b[1;33m)\u001b[0m\u001b[1;33m\u001b[0m\u001b[1;33m\u001b[0m\u001b[0m\n\u001b[0;32m      3\u001b[0m \u001b[0mprint\u001b[0m \u001b[1;33m(\u001b[0m\u001b[1;34m\"The content of the data is: {}\\n\"\u001b[0m\u001b[1;33m.\u001b[0m\u001b[0mformat\u001b[0m\u001b[1;33m(\u001b[0m\u001b[0ma_great_sentence\u001b[0m\u001b[1;33m)\u001b[0m\u001b[1;33m)\u001b[0m\u001b[1;33m\u001b[0m\u001b[1;33m\u001b[0m\u001b[0m\n\u001b[1;32m----> 4\u001b[1;33m \u001b[0mencoded_data\u001b[0m\u001b[1;33m,\u001b[0m \u001b[0mtree\u001b[0m \u001b[1;33m=\u001b[0m \u001b[0mhuffman_encoding\u001b[0m\u001b[1;33m(\u001b[0m\u001b[0ma_great_sentence\u001b[0m\u001b[1;33m)\u001b[0m\u001b[1;33m\u001b[0m\u001b[1;33m\u001b[0m\u001b[0m\n\u001b[0m\u001b[0;32m      5\u001b[0m \u001b[0mprint\u001b[0m \u001b[1;33m(\u001b[0m\u001b[1;34m\"The size of the encoded data is: {}\\n\"\u001b[0m\u001b[1;33m.\u001b[0m\u001b[0mformat\u001b[0m\u001b[1;33m(\u001b[0m\u001b[0msys\u001b[0m\u001b[1;33m.\u001b[0m\u001b[0mgetsizeof\u001b[0m\u001b[1;33m(\u001b[0m\u001b[0mint\u001b[0m\u001b[1;33m(\u001b[0m\u001b[0mencoded_data\u001b[0m\u001b[1;33m,\u001b[0m \u001b[0mbase\u001b[0m\u001b[1;33m=\u001b[0m\u001b[1;36m2\u001b[0m\u001b[1;33m)\u001b[0m\u001b[1;33m)\u001b[0m\u001b[1;33m)\u001b[0m\u001b[1;33m)\u001b[0m\u001b[1;33m\u001b[0m\u001b[1;33m\u001b[0m\u001b[0m\n\u001b[0;32m      6\u001b[0m \u001b[0mprint\u001b[0m \u001b[1;33m(\u001b[0m\u001b[1;34m\"The content of the encoded data is: {}\\n\"\u001b[0m\u001b[1;33m.\u001b[0m\u001b[0mformat\u001b[0m\u001b[1;33m(\u001b[0m\u001b[0mencoded_data\u001b[0m\u001b[1;33m)\u001b[0m\u001b[1;33m)\u001b[0m\u001b[1;33m\u001b[0m\u001b[1;33m\u001b[0m\u001b[0m\n",
      "\u001b[1;32m<ipython-input-37-824f76c986eb>\u001b[0m in \u001b[0;36mhuffman_encoding\u001b[1;34m(data)\u001b[0m\n\u001b[0;32m      2\u001b[0m     \u001b[1;31m# check inappropriate inputs\u001b[0m\u001b[1;33m\u001b[0m\u001b[1;33m\u001b[0m\u001b[1;33m\u001b[0m\u001b[0m\n\u001b[0;32m      3\u001b[0m     \u001b[1;32massert\u001b[0m \u001b[0mtype\u001b[0m\u001b[1;33m(\u001b[0m\u001b[0mdata\u001b[0m\u001b[1;33m)\u001b[0m \u001b[1;33m==\u001b[0m \u001b[0mstr\u001b[0m\u001b[1;33m,\u001b[0m \u001b[1;34m'Please enter a string !'\u001b[0m\u001b[1;33m\u001b[0m\u001b[1;33m\u001b[0m\u001b[0m\n\u001b[1;32m----> 4\u001b[1;33m     \u001b[1;32massert\u001b[0m \u001b[0mlen\u001b[0m\u001b[1;33m(\u001b[0m\u001b[0mdata\u001b[0m\u001b[1;33m)\u001b[0m \u001b[1;33m>=\u001b[0m \u001b[1;36m1\u001b[0m\u001b[1;33m,\u001b[0m \u001b[1;34m'Do not enter empty string !'\u001b[0m\u001b[1;33m\u001b[0m\u001b[1;33m\u001b[0m\u001b[0m\n\u001b[0m\u001b[0;32m      5\u001b[0m \u001b[1;33m\u001b[0m\u001b[0m\n\u001b[0;32m      6\u001b[0m     \u001b[1;31m# count letter frequencies in data\u001b[0m\u001b[1;33m\u001b[0m\u001b[1;33m\u001b[0m\u001b[1;33m\u001b[0m\u001b[0m\n",
      "\u001b[1;31mAssertionError\u001b[0m: Do not enter empty string !"
     ]
    }
   ],
   "source": [
    "a_great_sentence = ''\n",
    "print (\"The size of the data is: {}\\n\".format(sys.getsizeof(a_great_sentence)))\n",
    "print (\"The content of the data is: {}\\n\".format(a_great_sentence))\n",
    "encoded_data, tree = huffman_encoding(a_great_sentence)\n",
    "print (\"The size of the encoded data is: {}\\n\".format(sys.getsizeof(int(encoded_data, base=2))))\n",
    "print (\"The content of the encoded data is: {}\\n\".format(encoded_data))\n",
    "decoded_data = huffman_decoding(encoded_data, tree)\n",
    "print (\"The size of the decoded data is: {}\\n\".format(sys.getsizeof(decoded_data)))\n",
    "print (\"The content of the encoded data is: {}\\n\".format(decoded_data))"
   ]
  },
  {
   "cell_type": "code",
   "execution_count": null,
   "metadata": {},
   "outputs": [],
   "source": []
  }
 ],
 "metadata": {
  "interpreter": {
   "hash": "79b0dd04bab9a03d46018d7d48049d4eb6cfb60c9c4f2a1fb5d498993db2f19d"
  },
  "kernelspec": {
   "display_name": "Python 3.8.3 ('base')",
   "language": "python",
   "name": "python3"
  },
  "language_info": {
   "codemirror_mode": {
    "name": "ipython",
    "version": 3
   },
   "file_extension": ".py",
   "mimetype": "text/x-python",
   "name": "python",
   "nbconvert_exporter": "python",
   "pygments_lexer": "ipython3",
   "version": "3.8.3"
  },
  "orig_nbformat": 4
 },
 "nbformat": 4,
 "nbformat_minor": 2
}
