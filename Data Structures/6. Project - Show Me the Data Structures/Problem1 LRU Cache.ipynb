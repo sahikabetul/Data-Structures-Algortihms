{
 "cells": [
  {
   "cell_type": "markdown",
   "metadata": {},
   "source": [
    "**The Goal:** Design a data structure known as a Least Recently Used (LRU) cache. An LRU cache is a type of cache in which we remove the least recently used entry when the cache memory reaches its limit. "
   ]
  },
  {
   "cell_type": "markdown",
   "metadata": {},
   "source": [
    "- For solution, we need to keep items in order. We used OrderedDict() to keep items by usage order. The reason of choosing dictionary is time comlexity. Dictionary time complexity is O(n).\n",
    "- We reorder existing items after getting or setting them.\n",
    "\n",
    "- Time Complexity of get, set, delere operations to dictionary items is O(1).\n",
    "- Space Complexity is O(n), dictionary size grows in proportion to input."
   ]
  },
  {
   "cell_type": "code",
   "execution_count": 1,
   "metadata": {},
   "outputs": [],
   "source": [
    "from collections import OrderedDict"
   ]
  },
  {
   "cell_type": "code",
   "execution_count": 2,
   "metadata": {},
   "outputs": [],
   "source": [
    "class LRU_Cache(object):\n",
    "\n",
    "    def __init__(self, capacity):\n",
    "        # Initialize class variables\n",
    "\n",
    "        # Check capacity value\n",
    "        if capacity is None:\n",
    "            print(\"Capacity could not be None !\")\n",
    "            exit(keep_kernel=True)\n",
    "        elif capacity < 1:\n",
    "            print(\"Capacity must be greater than 1 !\")\n",
    "            exit(keep_kernel=True)\n",
    "        self.capacity = capacity\n",
    "        self.cache = OrderedDict()\n",
    "\n",
    "    def get(self, key):\n",
    "        # Retrieve item from provided key. Return -1 if nonexistent. \n",
    "        \n",
    "        if key in self.cache:\n",
    "            # change usage order of the item to the end\n",
    "            self.cache.move_to_end(key)\n",
    "            return self.cache[key]\n",
    "        else:\n",
    "            return -1\n",
    "\n",
    "    def set(self, key, value):\n",
    "        # Set the value if the key is not present in the cache. If the cache is at capacity remove the oldest item. \n",
    "        \n",
    "        # Check key value\n",
    "        if key is None:\n",
    "            print(\"Key could not be None !\")\n",
    "            exit()\n",
    "            \n",
    "        if key in self.cache:\n",
    "            # change usage order of the item to the end\n",
    "            self.cache.move_to_end(key)\n",
    "            self.cache[key] = value\n",
    "            return self.cache[key]\n",
    "        \n",
    "        else:\n",
    "            if len(self.cache) < self.capacity:\n",
    "                # if cache is not full, add item to cache\n",
    "                self.cache[key] = value\n",
    "                return self.cache[key]\n",
    "            else:\n",
    "                # if cache is full, add item to cache\n",
    "                self.cache.popitem(last = False)\n",
    "                self.cache[key] = value\n",
    "                return self.cache[key]\n"
   ]
  },
  {
   "cell_type": "markdown",
   "metadata": {},
   "source": [
    "#### Test Case 1"
   ]
  },
  {
   "cell_type": "code",
   "execution_count": 3,
   "metadata": {},
   "outputs": [
    {
     "name": "stdout",
     "output_type": "stream",
     "text": [
      "Correct answer !\n",
      "Correct answer !\n",
      "Correct answer !\n",
      "Correct answer !\n"
     ]
    }
   ],
   "source": [
    "our_cache = LRU_Cache(5)\n",
    "\n",
    "our_cache.set(1, 1)\n",
    "our_cache.set(2, 2)\n",
    "our_cache.set(3, 3)\n",
    "our_cache.set(4, 4)\n",
    "\n",
    "# our_cache.get(1)       # returns 1\n",
    "assert our_cache.get(1) == 1, 'Wrong answer !'\n",
    "print('Correct answer !')\n",
    "\n",
    "# our_cache.get(2)       # returns 2\n",
    "assert our_cache.get(2) == 2, 'Wrong answer !'\n",
    "print('Correct answer !')\n",
    "\n",
    "# our_cache.get(9)      # returns -1 because 9 is not present in the cache\n",
    "assert our_cache.get(9) == -1, 'Wrong answer !'\n",
    "print('Correct answer !')\n",
    "\n",
    "our_cache.set(5, 5) \n",
    "our_cache.set(6, 6)\n",
    "\n",
    "# our_cache.get(3)     # returns -1 because the cache reached it's capacity and 3 was the least recently used entry\n",
    "assert our_cache.get(3) == -1, 'Wrong answer !'\n",
    "print('Correct answer !')"
   ]
  },
  {
   "cell_type": "code",
   "execution_count": 4,
   "metadata": {},
   "outputs": [
    {
     "name": "stdout",
     "output_type": "stream",
     "text": [
      "Cache items, ordered by least recently to recently used:\n"
     ]
    },
    {
     "data": {
      "text/plain": [
       "OrderedDict([(4, 4), (1, 1), (2, 2), (5, 5), (6, 6)])"
      ]
     },
     "execution_count": 4,
     "metadata": {},
     "output_type": "execute_result"
    }
   ],
   "source": [
    "print('Cache items, ordered by least recently to recently used:')\n",
    "our_cache.cache"
   ]
  },
  {
   "cell_type": "markdown",
   "metadata": {},
   "source": [
    "#### Test Case 2"
   ]
  },
  {
   "cell_type": "code",
   "execution_count": 5,
   "metadata": {},
   "outputs": [
    {
     "name": "stdout",
     "output_type": "stream",
     "text": [
      "Correct answer !\n",
      "Correct answer !\n"
     ]
    }
   ],
   "source": [
    "my_cache1 = LRU_Cache(2)\n",
    "\n",
    "my_cache1.set(3, 3)\n",
    "my_cache1.set(6, 6)\n",
    "my_cache1.set(3, 9)\n",
    "\n",
    "assert my_cache1.get(3) == 9, 'Wrong answer !'\n",
    "print('Correct answer !')\n",
    "\n",
    "assert my_cache1.get(6) == 6, 'Wrong answer !'\n",
    "print('Correct answer !')"
   ]
  },
  {
   "cell_type": "code",
   "execution_count": 6,
   "metadata": {},
   "outputs": [
    {
     "name": "stdout",
     "output_type": "stream",
     "text": [
      "Cache items, ordered by least recently to recently used:\n"
     ]
    },
    {
     "data": {
      "text/plain": [
       "OrderedDict([(3, 9), (6, 6)])"
      ]
     },
     "execution_count": 6,
     "metadata": {},
     "output_type": "execute_result"
    }
   ],
   "source": [
    "print('Cache items, ordered by least recently to recently used:')\n",
    "my_cache1.cache"
   ]
  },
  {
   "cell_type": "markdown",
   "metadata": {},
   "source": [
    "#### Test Case 3"
   ]
  },
  {
   "cell_type": "code",
   "execution_count": 7,
   "metadata": {},
   "outputs": [
    {
     "name": "stdout",
     "output_type": "stream",
     "text": [
      "Capacity must be greater than 1 !\n"
     ]
    }
   ],
   "source": [
    "my_cache2 = LRU_Cache(0)"
   ]
  },
  {
   "cell_type": "markdown",
   "metadata": {},
   "source": [
    "#### Test Case 4"
   ]
  },
  {
   "cell_type": "code",
   "execution_count": 13,
   "metadata": {},
   "outputs": [
    {
     "name": "stdout",
     "output_type": "stream",
     "text": [
      "Correct answer !\n"
     ]
    }
   ],
   "source": [
    "my_cache3 = LRU_Cache(2)\n",
    "\n",
    "my_cache3.set(3, 3)\n",
    "my_cache3.set(6, 6)\n",
    "my_cache3.set(3, 9)\n",
    "\n",
    "assert my_cache3.get(0) == -1, 'Wrong answer !'\n",
    "print('Correct answer !')"
   ]
  }
 ],
 "metadata": {
  "interpreter": {
   "hash": "79b0dd04bab9a03d46018d7d48049d4eb6cfb60c9c4f2a1fb5d498993db2f19d"
  },
  "kernelspec": {
   "display_name": "Python 3.8.3 ('base')",
   "language": "python",
   "name": "python3"
  },
  "language_info": {
   "codemirror_mode": {
    "name": "ipython",
    "version": 3
   },
   "file_extension": ".py",
   "mimetype": "text/x-python",
   "name": "python",
   "nbconvert_exporter": "python",
   "pygments_lexer": "ipython3",
   "version": "3.6.13"
  },
  "orig_nbformat": 4
 },
 "nbformat": 4,
 "nbformat_minor": 2
}
