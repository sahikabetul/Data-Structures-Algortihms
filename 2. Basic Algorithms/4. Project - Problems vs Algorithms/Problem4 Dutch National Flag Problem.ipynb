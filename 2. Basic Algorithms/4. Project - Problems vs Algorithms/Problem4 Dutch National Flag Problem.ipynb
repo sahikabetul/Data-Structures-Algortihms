{
 "cells": [
  {
   "cell_type": "markdown",
   "metadata": {},
   "source": [
    "**The Goal:** Given an input array consisting on only 0, 1, and 2, sort the array in a single traversal. You're not allowed to use any sorting function that Python provides.\n",
    "\n",
    "- **Design:** I keep three indexes: First for iterating over the input_list(i), second for keeping lastly placed 0's index (i0) and third for keeping lastly placed 2's index (i2). I set pivots by i and if necessary, swap with i0 or i2.\n",
    "- **Time Complexity:** O(n). Single traversal\n",
    "- **Space Complexity:** O(1). I used only one list. My solution sorts the list in-place, meaning that no additional data structures are required."
   ]
  },
  {
   "cell_type": "code",
   "execution_count": 8,
   "metadata": {},
   "outputs": [],
   "source": [
    "def sort_012(input_list):\n",
    "    \"\"\"\n",
    "    Given an input array consisting on only 0, 1, and 2, sort the array in a single traversal.\n",
    "\n",
    "    Args:\n",
    "       input_list(list): List to be sorted\n",
    "    \"\"\"\n",
    "\n",
    "    i = 0\n",
    "    i0 = 0\n",
    "    i2 = len(input_list) - 1\n",
    "\n",
    "    while i <= i2:\n",
    "        if input_list[i] == 0:\n",
    "            input_list[i], input_list[i0] = input_list[i0], 0\n",
    "            i0 += 1\n",
    "            i += 1\n",
    "\n",
    "        elif input_list[i] == 2:\n",
    "            input_list[i], input_list[i2]= input_list[i2], 2\n",
    "            i2 -= 1\n",
    "\n",
    "        else:\n",
    "            i += 1\n",
    "\n",
    "    return input_list\n",
    "\n",
    "def test_function(test_case):\n",
    "    sorted_array = sort_012(test_case)\n",
    "    print(sorted_array)\n",
    "    if sorted_array == sorted(test_case):\n",
    "        print(\"Pass\")\n",
    "    else:\n",
    "        print(\"Fail\")"
   ]
  },
  {
   "cell_type": "markdown",
   "metadata": {},
   "source": [
    "#### Test Case 1"
   ]
  },
  {
   "cell_type": "code",
   "execution_count": 9,
   "metadata": {},
   "outputs": [
    {
     "name": "stdout",
     "output_type": "stream",
     "text": [
      "[0, 0, 0, 1, 1, 1, 2, 2, 2, 2, 2]\n",
      "Pass\n",
      "[0, 0, 0, 0, 0, 0, 0, 0, 0, 0, 0, 1, 1, 1, 1, 1, 1, 2, 2, 2, 2, 2, 2, 2, 2, 2]\n",
      "Pass\n",
      "[0, 0, 0, 0, 0, 0, 1, 1, 1, 1, 1, 1, 2, 2, 2, 2, 2, 2, 2]\n",
      "Pass\n"
     ]
    }
   ],
   "source": [
    "test_function([0, 0, 2, 2, 2, 1, 1, 1, 2, 0, 2])\n",
    "test_function([2, 1, 2, 0, 0, 2, 1, 0, 1, 0, 0, 2, 2, 2, 1, 2, 0, 0, 0, 2, 1, 0, 2, 0, 0, 1])\n",
    "test_function([0, 0, 0, 0, 0, 0, 1, 1, 1, 1, 1, 1, 2, 2, 2, 2, 2, 2, 2])"
   ]
  },
  {
   "cell_type": "markdown",
   "metadata": {},
   "source": [
    "#### Test Case 2"
   ]
  },
  {
   "cell_type": "code",
   "execution_count": 11,
   "metadata": {},
   "outputs": [
    {
     "name": "stdout",
     "output_type": "stream",
     "text": [
      "[0, 0, 1, 1, 1]\n",
      "Pass\n",
      "[1, 1, 1, 2, 2]\n",
      "Pass\n"
     ]
    }
   ],
   "source": [
    "test_function([0, 1, 1, 0, 1]) # List not includes 2\n",
    "test_function([2, 1, 1, 2, 1]) # List not includes 0"
   ]
  },
  {
   "cell_type": "markdown",
   "metadata": {},
   "source": [
    "#### Test Case 3"
   ]
  },
  {
   "cell_type": "code",
   "execution_count": 12,
   "metadata": {},
   "outputs": [
    {
     "name": "stdout",
     "output_type": "stream",
     "text": [
      "[]\n",
      "Pass\n"
     ]
    }
   ],
   "source": [
    "test_function([])"
   ]
  }
 ],
 "metadata": {
  "interpreter": {
   "hash": "79b0dd04bab9a03d46018d7d48049d4eb6cfb60c9c4f2a1fb5d498993db2f19d"
  },
  "kernelspec": {
   "display_name": "Python 3.8.3 ('base')",
   "language": "python",
   "name": "python3"
  },
  "language_info": {
   "codemirror_mode": {
    "name": "ipython",
    "version": 3
   },
   "file_extension": ".py",
   "mimetype": "text/x-python",
   "name": "python",
   "nbconvert_exporter": "python",
   "pygments_lexer": "ipython3",
   "version": "3.8.3"
  },
  "orig_nbformat": 4
 },
 "nbformat": 4,
 "nbformat_minor": 2
}
